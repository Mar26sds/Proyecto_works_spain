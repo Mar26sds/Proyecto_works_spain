{
 "cells": [
  {
   "cell_type": "code",
   "execution_count": null,
   "id": "13ce2d7e",
   "metadata": {},
   "outputs": [],
   "source": [
    "#%pip install folium"
   ]
  },
  {
   "cell_type": "code",
   "execution_count": null,
   "id": "fb09c5a3",
   "metadata": {},
   "outputs": [],
   "source": [
    "#%pip install seaborn"
   ]
  },
  {
   "cell_type": "code",
   "execution_count": null,
   "id": "fc584ebe",
   "metadata": {},
   "outputs": [],
   "source": [
    "import pandas as pd\n",
    "import numpy as np\n",
    "import pandas as pd\n",
    "import seaborn as sns\n",
    "import matplotlib.pyplot as plt\n",
    "import folium"
   ]
  },
  {
   "cell_type": "markdown",
   "id": "c85db2a0",
   "metadata": {},
   "source": [
    "# Cargar los datos sobre los que vamos a trabajar"
   ]
  },
  {
   "cell_type": "code",
   "execution_count": null,
   "id": "8ed61122",
   "metadata": {},
   "outputs": [],
   "source": [
    "data=pd.read_csv('/Users/mar/Proyecto final linkedin selenium/base_datos_limpia/data_limpia.csv')"
   ]
  },
  {
   "cell_type": "code",
   "execution_count": null,
   "id": "656ded08",
   "metadata": {},
   "outputs": [],
   "source": [
    "data.head()"
   ]
  },
  {
   "cell_type": "code",
   "execution_count": null,
   "id": "425a0b4d",
   "metadata": {},
   "outputs": [],
   "source": [
    "coor=pd.read_csv('/Users/mar/Proyecto final linkedin selenium/coor/coord.csv')"
   ]
  },
  {
   "cell_type": "code",
   "execution_count": null,
   "id": "c5d031b1",
   "metadata": {},
   "outputs": [],
   "source": [
    "coor.head() #hay que borrar las columnas y susituír los nulos por 'unknown'"
   ]
  },
  {
   "cell_type": "code",
   "execution_count": null,
   "id": "8ced69b8",
   "metadata": {},
   "outputs": [],
   "source": [
    "coor.columns"
   ]
  },
  {
   "cell_type": "code",
   "execution_count": null,
   "id": "d1c53ab8",
   "metadata": {},
   "outputs": [],
   "source": [
    "coor.drop(coor[['1','2','3','4','5']], axis=1, inplace=True)"
   ]
  },
  {
   "cell_type": "code",
   "execution_count": null,
   "id": "08b3e5f3",
   "metadata": {},
   "outputs": [],
   "source": [
    "coor.head()"
   ]
  },
  {
   "cell_type": "code",
   "execution_count": null,
   "id": "18c2fb77",
   "metadata": {},
   "outputs": [],
   "source": [
    "for i in range(len(coor)):\n",
    "    if coor['latitude'][i]=='u':\n",
    "        coor['latitude'][i]='unknown'\n",
    "    if coor['longitude'][i]=='n':\n",
    "        coor['latitude'][i]='unknown'"
   ]
  },
  {
   "cell_type": "code",
   "execution_count": null,
   "id": "8be421d5",
   "metadata": {},
   "outputs": [],
   "source": [
    "data_f=pd.concat([data, coor], axis=1)\n",
    "data_f"
   ]
  },
  {
   "cell_type": "code",
   "execution_count": null,
   "id": "d12f7656",
   "metadata": {},
   "outputs": [],
   "source": [
    "#Estadística: agrupar por comunidades y hacer el conteo, ver en barras "
   ]
  },
  {
   "cell_type": "code",
   "execution_count": null,
   "id": "21437167",
   "metadata": {},
   "outputs": [],
   "source": [
    "data_e=data_f.groupby(['Comunidad Autónoma o ciudad']).count()\n",
    "data_e.reset_index(inplace=True)\n",
    "data_e"
   ]
  },
  {
   "cell_type": "code",
   "execution_count": null,
   "id": "14c3eace",
   "metadata": {},
   "outputs": [],
   "source": [
    "data_to_plot=pd.DataFrame(data_e[['Comunidad Autónoma o ciudad','Nombre de la Empresa']].sort_values('Nombre de la Empresa', ascending=False))\n",
    "\n",
    "\n"
   ]
  },
  {
   "cell_type": "code",
   "execution_count": null,
   "id": "dd27e23d",
   "metadata": {},
   "outputs": [],
   "source": [
    "data_to_plot.reset_index()"
   ]
  },
  {
   "cell_type": "code",
   "execution_count": null,
   "id": "87f17aa3",
   "metadata": {},
   "outputs": [],
   "source": [
    "data_to_plot.to_csv('/Users/mar/Proyecto final linkedin selenium/base_datos_limpia/data_to_plot.csv')"
   ]
  },
  {
   "cell_type": "code",
   "execution_count": null,
   "id": "97580b08",
   "metadata": {
    "scrolled": false
   },
   "outputs": [],
   "source": [
    "plt.figure(figsize=(10, 8))\n",
    "barplot = sns.barplot(x=\"Comunidad Autónoma o ciudad\", y=\"Nombre de la Empresa\", data=data_to_plot)\n",
    "plt.xlabel(\"Comunidad Autónoma o ciudad\", size=15)\n",
    "plt.ylabel(\"Número de empresas\", size=15)\n",
    "plt.title('Número de empresas en nuestra web respecto a la Comunidad Autónoma o ciudad de España',size=15)\n",
    "plt.xticks(rotation=70)\n",
    "plt.show()\n",
    "fig = plt.gcf()\n",
    "plt.show()\n",
    "fig.savefig(\"/Users/mar/Proyecto final linkedin selenium/img/plot.png\")\n"
   ]
  },
  {
   "cell_type": "code",
   "execution_count": null,
   "id": "192578b4",
   "metadata": {},
   "outputs": [],
   "source": []
  },
  {
   "cell_type": "code",
   "execution_count": null,
   "id": "8c4e2a37",
   "metadata": {},
   "outputs": [],
   "source": [
    "#probar folium\n"
   ]
  },
  {
   "cell_type": "code",
   "execution_count": null,
   "id": "3230e561",
   "metadata": {},
   "outputs": [],
   "source": [
    "mapa=folium.Map(location=[40.41, -3.7], # lat-lon del centro del mapa\n",
    "                tiles='openstreetmap',    # estilo del mapa\n",
    "                zoom_start=3            # zoom inicial\n",
    "               )"
   ]
  },
  {
   "cell_type": "code",
   "execution_count": null,
   "id": "3ea35d25",
   "metadata": {
    "scrolled": true
   },
   "outputs": [],
   "source": [
    "mapa"
   ]
  },
  {
   "cell_type": "code",
   "execution_count": null,
   "id": "0810c325",
   "metadata": {},
   "outputs": [],
   "source": [
    "lat=input()\n",
    "long=input()"
   ]
  },
  {
   "cell_type": "code",
   "execution_count": null,
   "id": "013e6cb5",
   "metadata": {},
   "outputs": [],
   "source": [
    "folium.CircleMarker([lat,long], # lat-lon del marcador\n",
    "                    radius=8,       # tamaño del marcador, radio del circulo\n",
    "                    icon=folium.Icon()).add_to(mapa)\n",
    "mapa"
   ]
  },
  {
   "cell_type": "code",
   "execution_count": null,
   "id": "2dcb304c",
   "metadata": {},
   "outputs": [],
   "source": [
    "coor.drop(coor.loc[coor['latitude']=='unknown'].index, inplace=True)"
   ]
  },
  {
   "cell_type": "code",
   "execution_count": null,
   "id": "0838a17f",
   "metadata": {},
   "outputs": [],
   "source": [
    "coor.reset_index(inplace=True)\n",
    "coor.to_csv('/Users/mar/Proyecto final linkedin selenium/coor/coor_folium.csv')"
   ]
  },
  {
   "cell_type": "code",
   "execution_count": null,
   "id": "84840e72",
   "metadata": {},
   "outputs": [],
   "source": [
    "for i in range(len(coor.latitude)):\n",
    "    folium.Marker([coor['latitude'][i], coor['longitude'][i]], icon=folium.Icon(color='red')).add_to(mapa)\n",
    "    \n",
    "mapa   "
   ]
  },
  {
   "cell_type": "code",
   "execution_count": null,
   "id": "a1ba3110",
   "metadata": {},
   "outputs": [],
   "source": [
    "coor"
   ]
  },
  {
   "cell_type": "code",
   "execution_count": null,
   "id": "72f4c5c1",
   "metadata": {},
   "outputs": [],
   "source": [
    "help(folium.Icon)"
   ]
  },
  {
   "cell_type": "code",
   "execution_count": null,
   "id": "8f928c8b",
   "metadata": {},
   "outputs": [],
   "source": []
  }
 ],
 "metadata": {
  "kernelspec": {
   "display_name": "Python 3 (ipykernel)",
   "language": "python",
   "name": "python3"
  },
  "language_info": {
   "codemirror_mode": {
    "name": "ipython",
    "version": 3
   },
   "file_extension": ".py",
   "mimetype": "text/x-python",
   "name": "python",
   "nbconvert_exporter": "python",
   "pygments_lexer": "ipython3",
   "version": "3.9.13"
  }
 },
 "nbformat": 4,
 "nbformat_minor": 5
}
